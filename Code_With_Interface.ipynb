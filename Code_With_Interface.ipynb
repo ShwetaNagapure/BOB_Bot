{
  "cells": [
    {
      "cell_type": "code",
      "execution_count": null,
      "metadata": {
        "colab": {
          "background_save": true
        },
        "id": "KavK1cVTYT0K"
      },
      "outputs": [],
      "source": [
        "!pip install openai"
      ]
    },
    {
      "cell_type": "code",
      "execution_count": null,
      "metadata": {
        "id": "I7xhZfK_6T2G"
      },
      "outputs": [],
      "source": [
        "!pip install langchain rank_bm25 pypdf unstructured chromadb\n",
        "!pip install unstructured['pdf'] unstructured\n"
      ]
    },
    {
      "cell_type": "code",
      "execution_count": null,
      "metadata": {
        "id": "g9cnL217nRxd"
      },
      "outputs": [],
      "source": [
        "!pip install -U langchain-community"
      ]
    },
    {
      "cell_type": "markdown",
      "metadata": {
        "id": "monR9xmw6p2E"
      },
      "source": [
        "### Load the required Packages"
      ]
    },
    {
      "cell_type": "code",
      "execution_count": null,
      "metadata": {
        "id": "R7gWf-t5TM6r"
      },
      "outputs": [],
      "source": []
    },
    {
      "cell_type": "code",
      "execution_count": null,
      "metadata": {
        "id": "hJ7NC1yB6jDX"
      },
      "outputs": [],
      "source": [
        "from langchain.document_loaders import UnstructuredPDFLoader\n",
        "from langchain.text_splitter import RecursiveCharacterTextSplitter\n",
        "from langchain.vectorstores import Chroma\n",
        "\n",
        "from langchain_core.prompts import ChatPromptTemplate\n",
        "from langchain_core.output_parsers import StrOutputParser\n",
        "from langchain_core.runnables import RunnablePassthrough\n",
        "\n",
        "from langchain.embeddings import HuggingFaceInferenceAPIEmbeddings\n",
        "from langchain.llms import HuggingFaceHub\n",
        "\n",
        "\n",
        "from langchain.retrievers import BM25Retriever, EnsembleRetriever\n",
        "\n",
        "import os"
      ]
    },
    {
      "cell_type": "code",
      "execution_count": null,
      "metadata": {
        "id": "GWcedXWq7unE"
      },
      "outputs": [],
      "source": [
        "### Load the PDF file"
      ]
    },
    {
      "cell_type": "code",
      "execution_count": null,
      "metadata": {
        "id": "UfOafnyUoJ-f"
      },
      "outputs": [],
      "source": [
        "!apt-get install poppler-utils"
      ]
    },
    {
      "cell_type": "code",
      "execution_count": null,
      "metadata": {
        "id": "tRhF_cH84w6C"
      },
      "outputs": [],
      "source": [
        "!apt-get install -y tesseract-ocr\n",
        "!pip install pytesseract"
      ]
    },
    {
      "cell_type": "code",
      "execution_count": null,
      "metadata": {
        "id": "B1II05VC6vjr"
      },
      "outputs": [],
      "source": [
        "file_path = \"/content/BarodaDigitalCarLoan.pdf\"\n",
        "data_file = UnstructuredPDFLoader(file_path)\n",
        "docs = data_file.load()"
      ]
    },
    {
      "cell_type": "code",
      "execution_count": null,
      "metadata": {
        "colab": {
          "base_uri": "https://localhost:8080/"
        },
        "id": "EqUCmzkF7xOe",
        "outputId": "d907e417-b625-43e2-884a-2aa194a014b9"
      },
      "outputs": [
        {
          "name": "stdout",
          "output_type": "stream",
          "text": [
            "[{\n",
            "\n",
            "\"BarodaDigitalCarLoan\": {\n",
            "\n",
            "\"Benefits\": {\n",
            "\n",
            "\"PaperlessProcess\": true,\n",
            "\n",
            "\"Financing\": \"Up to 93%\",\n",
            "\n",
            "\"DirectDisbursement\": true,\n",
            "\n",
            "\"PrepaymentCharges\": {\n",
            "\n",
            "\"FloatingRate\": {\n",
            "\n",
            "\"Charge\": \"None\",\n",
            "\n",
            "\"Details\": \"No prepayment charges for Floating Rate of Interest\"\n",
            "\n",
            "}\n",
            "\n",
            "},\n",
            "\n",
            "\"ForeclosureCharges\": \"None\",\n",
            "\n",
            "\"InterestRates\": \"Attractive\",\n",
            "\n",
            "\"ProcessingTime\": \"Quick\",\n",
            "\n",
            "\"ProcessingCharges\": \"Concessional till 30.09.2024.\"\n",
            "\n",
            "},\n",
            "\n",
            "\"Features\": {\n",
            "\n",
            "\"EligibleApplicants\": [\n",
            "\n",
            "\"Salaried employees\",\n",
            "\n",
            "\"Self-employed professionals (Doctor, Engineer, etc.)\",\n",
            "\n",
            "\"Self-employed business persons\",\n",
            "\n",
            "\"Insurance agents\"\n",
            "\n",
            "],\n",
            "\n",
            "\"AgeCriteria\": {\n",
            "\n",
            "\"Minimum\": 21,\n",
            "\n",
            "\"Maximum\": {\n",
            "\n",
            "\"Salaried\": 58,\n",
            "\n",
            "\"SelfEmployed\": 65\n",
            "\n",
            "}\n",
            "\n",
            "},\n",
            "\n",
            "\"InterestRateCalculation\": \"Daily reducing balance; based on credit score (minimum 701)\",\n",
            "\n",
            "\"RepaymentTenure\": \"Flexible, 12 to 84 months\",\n",
            "\n",
            "\"Collateral\": \"Hypothecation of financed vehicle\"\n",
            "\n",
            "},\n",
            "\n",
            "\"EligibilityCriteria\": {\n",
            "\n",
            "\"Salaried\": true,\n",
            "\n",
            "\"SelfEmployedProfessionals\": true,\n",
            "\n",
            "\"SelfEmployedBusinessPersons\": true\n",
            "\n",
            "},\n",
            "\n",
            "\"DocumentsRequired\": [\n",
            "\n",
            "\"PAN Number\",\n",
            "\n",
            "\"Aadhaar Number\",\n",
            "\n",
            "\"Digitally generated Bank A/C Statement for last 6 months\",\n",
            "\n",
            "\"Income Tax Return (ITR-3&4) for last 2 years (for Self Employed)\"\n",
            "\n",
            "],\n",
            "\n",
            "\"InterestRatesAndCharges\": {\n",
            "\n",
            "\"FixedRate\": {\n",
            "\n",
            "\"Conditions\": \"New Car\",\n",
            "\n",
            "\"Rate\": \"From 8.90% to 9.75%\"\n",
            "\n",
            "},\n",
            "\n",
            "\"FloatingRate\": {\n",
            "\n",
            "\"Conditions\": \"New Car\",\n",
            "\n",
            "\"Rate\": \"From 9.40% to 11.40%\"\n",
            "\n",
            "},\n",
            "\n",
            "\"UnifiedProcessingCharges\": {\n",
            "\n",
            "\"Upto10Lacs\": \"Rs. 1000/- + GST\",\n",
            "\n",
            "\"Above10Lacs\": \"Rs. 2000/- + GST\",\n",
            "\n",
            "\"SpecialCases\": {\n",
            "\n",
            "\"BarodaYoddhaLoanCustomer\": \"Nil\",\n",
            "\n",
            "\"State/Central/PSU employees\": \"Rs. 500/- + GST\"\n",
            "\n",
            "}\n",
            "\n",
            "}\n",
            "\n",
            "},\n",
            "\n",
            "\"PenalCharges\": {\n",
            "\n",
            "\"Description\": \"Penal Charges @ 2% p.a. on overdue payments and non-compliance\"\n",
            "\n",
            "},\n",
            "\n",
            "\"TermsAndConditions\": {\n",
            "\n",
            "\"MaximumLoanLimit\": \"Rs. 50,00,000/-\",\n",
            "\n",
            "\"RepaymentPeriod\": \"Upto 84 months\",\n",
            "\n",
            "\"Margin\": \"7% on 'on road price' excluding Insurance premium\",\n",
            "\n",
            "\"BureauScoreValidation\": \"Minimum 701/ (-1)\",\n",
            "\n",
            "\"Security\": \"Hypothecation of Vehicle Financed\",\n",
            "\n",
            "\"PrepaymentClosureCharges\": {\n",
            "\n",
            "\"FloatingRate\": {\n",
            "\n",
            "\"Individual\": \"Nil\",\n",
            "\n",
            "\"Non-Individual\": \"4% within 6 months; Nil after 6 months\"\n",
            "\n",
            "},\n",
            "\n",
            "\"FixedRate\": {\n",
            "\n",
            "\"PartPaymentCharges\": \"Nil upto Rs 40,000/- within 1 Year; 2%+GST beyond\",\n",
            "\n",
            "\"PrePaymentCharges\": \"Nil after 1 Year\"\n",
            "\n",
            "}\n",
            "\n",
            "}\n",
            "\n",
            "}\n",
            "\n",
            "},\n",
            "\n",
            "\"CarLoanEMICalculator\": {\n",
            "\n",
            "\"Description\": \"Tool to calculate Equated Monthly Instalment (EMI) for car loans\",\n",
            "\n",
            "\"Benefits\": [\n",
            "\n",
            "\"Affordable EMIs\",\n",
            "\n",
            "\"Low-interest rates\",\n",
            "\n",
            "\"Flexible repayment within 5 years\",\n",
            "\n",
            "\"Minimal documentation\",\n",
            "\n",
            "\"Nil foreclosure charges\",\n",
            "\n",
            "\"Quick loan processing and disbursement\"\n",
            "\n",
            "],\n",
            "\n",
            "\"Usage\": \"Enter loan amount, interest rate, and tenure to calculate EMI\",\n",
            "\n",
            "\"OnlineCalculator\": true\n",
            "\n",
            "},\n",
            "\n",
            "\"FAQs\": [\n",
            "\n",
            "{\n",
            "\n",
            "\"Question\": \"What is a car loan EMI?\",\n",
            "\n",
            "\"Answer\": \"EMI on a car loan is a monthly payment of the borrowed amount with interest.\"\n",
            "\n",
            "},\n",
            "\n",
            "{\n",
            "\n",
            "\"Question\": \"How is EMI calculated for a car loan?\",\n",
            "\n",
            "\"Answer\": \"EMI = [P x R x (1+R)^N] / [(1+R)^N-1]. P = Principal amount, R = Rate of interest, N = Number of instalments.\"\n",
            "\n",
            "},\n",
            "\n",
            "{\n",
            "\n",
            "\"Question\": \"How to use a car loan EMI calculator?\",\n",
            "\n",
            "\"Answer\": \"Enter loan details like amount, interest rate, and tenure to get monthly EMI instantly.\"\n",
            "\n",
            "},\n",
            "\n",
            "{\n",
            "\n",
            "\"Question\": \"Why choose Bank of Baroda for a car loan?\",\n",
            "\n",
            "\"Answer\": \"High financing, attractive interest rates, minimal documentation, quick processing.\"\n",
            "\n",
            "}\n",
            "\n",
            "]\n",
            "\n",
            "},\n",
            "\n",
            "{\n",
            "\n",
            "\"Baroda_Two_Wheeler_Loan\": {\n",
            "\n",
            "\"Benefits\": [\n",
            "\n",
            "\"Attractive Interest Rates\",\n",
            "\n",
            "\"Minimal Processing Charges\",\n",
            "\n",
            "\"Loan up to Rs. 10 lakhs\",\n",
            "\n",
            "\"No pre-closure charges\"\n",
            "\n",
            "],\n",
            "\n",
            "\"Features\": {\n",
            "\n",
            "\"Purpose\": \"For purchase of new two wheelers for private use.\",\n",
            "\n",
            "\"Eligibility\": \"Salaried employees, Businessmen, Professionals, Farmers, Staff/ex-staff (for availing under public scheme)\",\n",
            "\n",
            "\"Minimum_Age\": 21,\n",
            "\n",
            "\"Maximum_Age\": 70,\n",
            "\n",
            "\"Repayment_Period\": \"Up to 60 months\",\n",
            "\n",
            "\"Security\": \"Hypothecation of vehicle financed\",\n",
            "\n",
            "\"Documentation\": [\n",
            "\n",
            "\"Photo ID with age proof (like, PAN card, passport, driving license)\",\n",
            "\n",
            "\"Signed application form with 3 passport sized photographs\",\n",
            "\n",
            "\"Residence proof (valid passport, voter ID card, etc.)\",\n",
            "\n",
            "\"Bank statement for the last six months\",\n",
            "\n",
            "\"Additional documents based on employment type (salary slips, ITR, business proof)\"\n",
            "\n",
            "]\n",
            "\n",
            "},\n",
            "\n",
            "\"Interest_Rates_Charges\": {\n",
            "\n",
            "\"Fixed_Rate\": {\n",
            "\n",
            "\"Conditions\": \"1 year MCLR+SP+ 4.65%\",\n",
            "\n",
            "\"Effective_Rate_of_Interest\": \"13.75%\",\n",
            "\n",
            "\"Additional_Charges\": \"0.05% additional ROI applicable without GCLI\"\n",
            "\n",
            "},\n",
            "\n",
            "\"Floating_Rate\": {\n",
            "\n",
            "\"Conditions\": \"BRLLR + SP + 4.25%\",\n",
            "\n",
            "\"Effective_Rate_of_Interest\": \"13.65%\",\n",
            "\n",
            "\"Additional_Charges\": \"0.05% additional ROI applicable without GCLI\"\n",
            "\n",
            "},\n",
            "\n",
            "\"Processing_Charges\": \"@2.00% of Loan amount (Minimum Rs.250/- +GST)\"\n",
            "\n",
            "},\n",
            "\n",
            "\"Most_Important_Terms_and_Conditions\": {\n",
            "\n",
            "\"Maximum_Limit\": \"Rs. 10 lakhs (for all categories)\",\n",
            "\n",
            "\"Margin\": {\n",
            "\n",
            "\"Loan_up_to_to_Rs._3_lakhs\": \"10%\",\n",
            "\n",
            "\"Loan_above_Rs._3_lakhs\": \"15%\"\n",
            "\n",
            "},\n",
            "\n",
            "\"Bureau_Score_Validation\": \"Minimum Bureau score cut off as per bank's guidelines\",\n",
            "\n",
            "\"Age_Criteria\": {\n",
            "\n",
            "\"Minimum\": \"Borrower 21 years, Co-applicant- 18 years\",\n",
            "\n",
            "\"Maximum\": \"Age of the applicant/co-applicant/guarantor + repayment period should not exceed 70 years\"\n",
            "\n",
            "},\n",
            "\n",
            "\"Pre-closure_Charges\": {\n",
            "\n",
            "\"Fixed_Rate\": {\n",
            "\n",
            "\"Nil_Part_Payment_Charges\": \"Upto cumulative amount Rs 10,000/- within a period of -02- Year from first disbursement date\",\n",
            "\n",
            "\"Nil_Pre_payment_Charges\": \"After a period of -02- Year from first disbursement date of loan amount\",\n",
            "\n",
            "\"Pre_Payment_Charges\": \"@2%+GST on entire pre-payment if amount exceeds Rs 10,000/- within -02- Year from the first Disbursement date\",\n",
            "\n",
            "\"Account_Closed_Pre_payment_Charges\": \"@ 2% + GST for entire pre-paid amount when account is closed within -02- year from the first disbursement date\"\n",
            "\n",
            "},\n",
            "\n",
            "\"Floating_Rate\": \"Nil\"\n",
            "\n",
            "},\n",
            "\n",
            "\"Credit_Shield\": {\n",
            "\n",
            "\"Loan_up_to_Rs._3_lakhs\": \"Not mandatory\",\n",
            "\n",
            "\"Loan_above_Rs._3_lakhs\": \"Mandatory to obtain term life insurance or group credit life Insurance\"\n",
            "\n",
            "}\n",
            "\n",
            "},\n",
            "\n",
            "\"FAQs\": [\n",
            "\n",
            "{\n",
            "\n",
            "\"Question\": \"How to get a Bike Loan?\",\n",
            "\n",
            "\"Answer\": \"You can apply for Baroda Bike Loan/Two-Wheeler Loan through any of the mentioned modes.\"\n",
            "\n",
            "},\n",
            "\n",
            "{\n",
            "\n",
            "\"Question\": \"Who can apply for Baroda Two Wheeler Loan?\",\n",
            "\n",
            "\"Answer\": \"Resident Individuals i.e., Salaried Employees, Pensioners, Businessmen, Professionals, Farmers & Staff.\"\n",
            "\n",
            "},\n",
            "\n",
            "{\n",
            "\n",
            "\"Question\": \"How to Check Bike Loan status?\",\n",
            "\n",
            "\"Answer\": \"You can check your bike loan status through visiting the branch or using toll-free numbers.\"\n",
            "\n",
            "},\n",
            "\n",
            "{\n",
            "\n",
            "\"Question\": \"How to Check My Bike Loan Balance?\",\n",
            "\n",
            "\"Answer\": \"Visit your base branch or nearest Bank of Baroda branch or use toll-free numbers.\"\n",
            "\n",
            "},\n",
            "\n",
            "{\n",
            "\n",
            "\"Question\": \"Which finance is best for bike loan?\",\n",
            "\n",
            "\"Answer\": \"At Bank of Baroda, we provide the finest-in-class Two-Wheeler Loan service.\"\n",
            "\n",
            "}\n",
            "\n",
            "]\n",
            "\n",
            "}\n",
            "\n",
            "},\n",
            "\n",
            "{\n",
            "\n",
            "\"Baroda_Car_Loan\": {\n",
            "\n",
            "\"Benefits\": [\n",
            "\n",
            "\"Upto 90% finance\",\n",
            "\n",
            "\"Attractive interest rates\",\n",
            "\n",
            "\"Higher loan amount\",\n",
            "\n",
            "\"Minimal documentation\",\n",
            "\n",
            "\"No foreclosure charges\",\n",
            "\n",
            "\"Quick processing\",\n",
            "\n",
            "\"Speedy fund disbursal\"\n",
            "\n",
            "],\n",
            "\n",
            "\"Features\": {\n",
            "\n",
            "\"Eligibility\": [\n",
            "\n",
            "\"Salaried employees\",\n",
            "\n",
            "\"Businessmen, professionals, and farmers\",\n",
            "\n",
            "\"Directors of private and public limited companies, proprietor of proprietorship firms, partners of partnership firms\",\n",
            "\n",
            "\"Corporate entities (Public Ltd Co / Private Ltd Co etc.) / Firms (Sole Proprietorship firm / Partnership / LLP / Trust / Society)\",\n",
            "\n",
            "\"NRIs/PIOs\"\n",
            "\n",
            "],\n",
            "\n",
            "\"Purpose\": \"For purchase of new passenger cars, multi utility vehicles (MUVs), SUVs, etc. for private use.\",\n",
            "\n",
            "\"Repayment_Period\": \"Up to 84 months\",\n",
            "\n",
            "\"Minimum_Age\": 21,\n",
            "\n",
            "\"Maximum_Age\": 70,\n",
            "\n",
            "\"Security\": \"Hypothecation of vehicle financed\",\n",
            "\n",
            "\"Documentation\": [\n",
            "\n",
            "\"Photo ID with age proof (like, PAN card, passport, driving license)\",\n",
            "\n",
            "\"Signed application form with 3 passport sized photographs\",\n",
            "\n",
            "\"Residence proof (valid passport, voter ID card, etc.)\",\n",
            "\n",
            "\"Bank statement for the last six months\",\n",
            "\n",
            "\"Additional documents based on employment type (salary slips, ITR, business proof)\"\n",
            "\n",
            "]\n",
            "\n",
            "},\n",
            "\n",
            "\"Interest_Rates_Charges\": {\n",
            "\n",
            "\"Fixed_Rate\": {\n",
            "\n",
            "\"Conditions\": \"1 year MCLR+0.05% to 1 year MCLR+2.50%\",\n",
            "\n",
            "\"Effective_Rate_of_Interest\": \"From 8.90% to 11.35%\",\n",
            "\n",
            "\"Additional_Charges\": \"0.05% additional ROI applicable without GCLI\"\n",
            "\n",
            "},\n",
            "\n",
            "\"Floating_Rate\": {\n",
            "\n",
            "\"Conditions\": \"BRLLR + SP to BRLLR + SP + 3.25%\",\n",
            "\n",
            "\"Effective_Rate_of_Interest\": \"From 9.40% to 12.65%\",\n",
            "\n",
            "\"Additional_Charges\": \"0.05% additional ROI applicable without GCLI\"\n",
            "\n",
            "},\n",
            "\n",
            "\"Unified_Processing_Charges\": {\n",
            "\n",
            "\"Loan_amount_upto_Rs_10_lacs\": \"Rs. 1000/- + GST\",\n",
            "\n",
            "\"Loan_amount_above_Rs_10_lacs\": \"Rs. 2000/- + GST\",\n",
            "\n",
            "\"Nil_for_Baroda_Yoddha_Loan_Customer\": \"Nil\",\n",
            "\n",
            "\"For_State_Central_PSU_employees\": \"Rs. 500/- + GST\"\n",
            "\n",
            "}\n",
            "\n",
            "},\n",
            "\n",
            "\"Most_Important_Terms_and_Conditions\": {\n",
            "\n",
            "\"Maximum_Limit\": \"Rs.500 Lakh (Individual: Rs.300.00 Lakh & Non-Individuals: Rs.500.00 Lakh)\",\n",
            "\n",
            "\"Repayment_Period\": \"Maximum 84 months\",\n",
            "\n",
            "\"Margin\": \"10% margin on ‘on road price’ of the vehicle\",\n",
            "\n",
            "\"Bureau_Score_Validation\": \"Minimum Bureau score cut off as per bank’s guidelines\",\n",
            "\n",
            "\"Age_Criteria\": {\n",
            "\n",
            "\"Minimum\": \"Borrower-21 years, Co-applicant-18 years\",\n",
            "\n",
            "\"Maximum\": \"Age of the applicant/co-applicant/guarantor + repayment period should not exceed 70 years\"\n",
            "\n",
            "},\n",
            "\n",
            "\"Security\": \"Hypothecation of vehicle financed\",\n",
            "\n",
            "\"Insurance\": \"Comprehensive insurance of the vehicle with bank’s clause\",\n",
            "\n",
            "\"Pre-closure_Charges\": {\n",
            "\n",
            "\"Floating_Rate\": {\n",
            "\n",
            "\"Individual\": \"Nil\",\n",
            "\n",
            "\"Non_Individual\": \"Pre closure within -6- months: 4% of outstanding as per the original Repayment/EMI schedule; After -6- months: Nil\"\n",
            "\n",
            "},\n",
            "\n",
            "\"Fixed_Rate\": {\n",
            "\n",
            "\"Nil_Part_Payment_Charges\": \"Upto cumulative amount Rs 40,000/- within a period of -01- Year from first disbursement date\",\n",
            "\n",
            "\"Nil_Pre_payment_Charges\": \"After a period of -01- Year from first disbursement date of loan amount\",\n",
            "\n",
            "\"Pre_Payment_Charges\": \"@2%+GST on entire pre-payment if amount exceeds Rs 40,000/- within a period of -01- Year from the first Disbursement date\",\n",
            "\n",
            "\"Account_Closed_Pre_payment_Charges\": \"@ 2% + GST for entire pre-paid amount when account is closed within -01- year from the first disbursement date\"\n",
            "\n",
            "}\n",
            "\n",
            "},\n",
            "\n",
            "\"Rate_of_Interest\": {\n",
            "\n",
            "\"Criteria\": \"Based on CIBIL Bureau score of the applicant/co- applicant. Minimum cut off score is 701. CIBIL Score (-1) will also be considered.\",\n",
            "\n",
            "\"Concessions\": [\n",
            "\n",
            "\"0.25% concession for existing home loans borrowers with good repayment track record\",\n",
            "\n",
            "\"0.50% concession for offering minimum 50% of Loan limit as liquid collateral security\",\n",
            "\n",
            "\"0.25% concession for purchasing Electric Vehicle under Baroda Auto Loan Scheme\"\n",
            "\n",
            "]\n",
            "\n",
            "}\n",
            "\n",
            "},\n",
            "\n",
            "\"FAQs\": [\n",
            "\n",
            "{\n",
            "\n",
            "\"Question\": \"What is a Car Loan?\",\n",
            "\n",
            "\"Answer\": \"A car loan/car finance is a loan availed for buying a new or pre-owned car, secured with the car itself.\"\n",
            "\n",
            "},\n",
            "\n",
            "{\n",
            "\n",
            "\"Question\": \"How much Car Loan can I get?\",\n",
            "\n",
            "\"Answer\": \"The maximum car loan amount for individuals is Rs. 200.00 lakh and for non-individuals it is Rs. 500 lakh.\"\n",
            "\n",
            "},\n",
            "\n",
            "{\n",
            "\n",
            "\"Question\": \"What is the Car Loan Interest Rate?\",\n",
            "\n",
            "\"Answer\": \"Car loan interest rates vary based on income, debt, and credit score. Check the Interest Rate page for applicable rates.\"\n",
            "\n",
            "},\n",
            "\n",
            "{\n",
            "\n",
            "\"Question\": \"How to Get a Car Loan?\",\n",
            "\n",
            "\"Answer\": \"You can apply for a car loan through branch visit, online application, missed call, or toll-free numbers.\"\n",
            "\n",
            "},\n",
            "\n",
            "{\n",
            "\n",
            "\"Question\": \"What is the minimum CIBIL score for car loan?\",\n",
            "\n",
            "\"Answer\": \"Minimum CIBIL score required is 701, but CIBIL Score (-1) will also be considered.\"\n",
            "\n",
            "},\n",
            "\n",
            "{\n",
            "\n",
            "\"Question\": \"How to Check Your Car Loan Balance?\",\n",
            "\n",
            "\"Answer\": \"Visit branch or call toll-free numbers. Existing customers can check balance via Internet Banking or Mobile Banking.\"\n",
            "\n",
            "},\n",
            "\n",
            "{\n",
            "\n",
            "\"Question\": \"How to get an NOC from a bank for a car loan?\",\n",
            "\n",
            "\"Answer\": \"NOC is issued within -7- working days of full repayment of the auto loan amount.\"\n",
            "\n",
            "},\n",
            "\n",
            "{\n",
            "\n",
            "\"Question\": \"How to Check Car Loan Status?\",\n",
            "\n",
            "\"Answer\": \"Check status at the branch, toll-free numbers, or car loan processing cells in specific locations.\"\n",
            "\n",
            "}\n",
            "\n",
            "]\n",
            "\n",
            "}\n",
            "\n",
            "},\n",
            "\n",
            "{\n",
            "\n",
            "\"Baroda_Auto_Loan_Preowned_Car\": {\n",
            "\n",
            "\"Benefits\": [\n",
            "\n",
            "\"Up to 75% financing\",\n",
            "\n",
            "\"Low interest rates\",\n",
            "\n",
            "\"Higher loan amount\",\n",
            "\n",
            "\"Minimal documentation\",\n",
            "\n",
            "\"No foreclosure charges\",\n",
            "\n",
            "\"Quick processing\",\n",
            "\n",
            "\"Speedy fund disbursal\"\n",
            "\n",
            "],\n",
            "\n",
            "\"Features\": {\n",
            "\n",
            "\"Eligibility\": [\n",
            "\n",
            "\"All Individual Resident Indians\",\n",
            "\n",
            "\"Salaried including Bank staff/ex-staff\",\n",
            "\n",
            "\"Self-employed & Professionals\",\n",
            "\n",
            "\"Businessmen & Professionals & Others Directors of Private / Public Ltd Co.\",\n",
            "\n",
            "\"Persons engaged in Agriculture & allied activities\"\n",
            "\n",
            "],\n",
            "\n",
            "\"Purpose\": \"For purchase of old / used passenger vehicle / four wheeler for personal use through approved certified pre- owned car dealers of OEMs.\",\n",
            "\n",
            "\"Repayment_Period\": \"Up to 60 months (Repayment period plus age of the vehicle should not exceed 96 months)\",\n",
            "\n",
            "\"Minimum_Age\": 21,\n",
            "\n",
            "\"Maximum_Age\": 70,\n",
            "\n",
            "\"Security\": \"Hypothecation of vehicle financed\",\n",
            "\n",
            "\"Processing_Charges\": \"0.50% of loan amount plus GST (Minimum Rs. 2500/- + GST, Maximum Rs. 10,000 + GST)\"\n",
            "\n",
            "},\n",
            "\n",
            "\"Interest_Rates_Charges\": {\n",
            "\n",
            "\"Fixed_Rate\": {\n",
            "\n",
            "\"Conditions\": \"1 year MCLR + SP + 2.90% to 1 year MCLR + SP + 5.65%\",\n",
            "\n",
            "\"Effective_Rate_of_Interest\": \"From 12.00% to 14.75%\",\n",
            "\n",
            "\"Additional_Charges\": \"0.05% additional ROI applicable without GCLI\"\n",
            "\n",
            "},\n",
            "\n",
            "\"Floating_Rate\": {\n",
            "\n",
            "\"Conditions\": \"BRLLR + SP + 2.50% to BRLLR + SP + 5.25%\",\n",
            "\n",
            "\"Effective_Rate_of_Interest\": \"From 11.90% to 14.65%\",\n",
            "\n",
            "\"Additional_Charges\": \"0.05% additional ROI applicable without GCLI\"\n",
            "\n",
            "}\n",
            "\n",
            "},\n",
            "\n",
            "\"Documents_Required\": [\n",
            "\n",
            "\"KYC Documents (PAN Card, Passport, Driving License, Aadhar etc.)\",\n",
            "\n",
            "\"Bank statement (Last 6 months for new customers)\",\n",
            "\n",
            "\"IT Return (2 years for self-employed, 1 year and salary slip for last 3 months for salaried)\",\n",
            "\n",
            "\"NACH mandate form (if required)\",\n",
            "\n",
            "\"Proforma invoice (Quotation) from certified tie-up partner\",\n",
            "\n",
            "\"Car documents (Copy of RC & Insurance)\"\n",
            "\n",
            "],\n",
            "\n",
            "\"Most_Important_Terms_and_Conditions\": {\n",
            "\n",
            "\"Minimum_&_Maximum_Limit\": \"Rs. 2.00 Lakh and Rs. 50.00 Lakh (for all categories)\",\n",
            "\n",
            "\"Repayment_Period\": \"Maximum 60 months (Repayment period plus age of the vehicle should not cross 96 months)\",\n",
            "\n",
            "\"Margin\": \"75% of Market value or Agreement/Invoice value, or 100% of Insured Declared Value (IDV), whichever is less\",\n",
            "\n",
            "\"Bureau_Score_Validation\": \"Minimum Bureau score cut off as per bank’s guidelines\",\n",
            "\n",
            "\"Age_Criteria\": {\n",
            "\n",
            "\"Minimum\": \"Applicant: 21 years, Co-applicant: 18 years\",\n",
            "\n",
            "\"Maximum\": \"Age of the applicant/co-applicant/guarantor plus repayment period should not exceed 70 years\"\n",
            "\n",
            "},\n",
            "\n",
            "\"Security\": \"Hypothecation of vehicle financed\",\n",
            "\n",
            "\"Insurance\": \"Comprehensive insurance of the vehicle with bank’s clause\",\n",
            "\n",
            "\"Pre-payment/Pre-Closure_Charges\": {\n",
            "\n",
            "\"Floating_Rate\": \"Nil\",\n",
            "\n",
            "\"Fixed_Rate\": {\n",
            "\n",
            "\"Nil_Part_Payment_Charges\": \"Upto cumulative amount Rs 40,000/- within a period of -02- Year from first disbursement date\",\n",
            "\n",
            "\"Nil_Pre_payment_Charges\": \"After a period of -02- Year from first disbursement date of loan amount\",\n",
            "\n",
            "\"Pre_Payment_Charges\": \"@2%+GST on entire pre-payment if amount exceeds Rs 40,000/- within a period of -02- Year from the first Disbursement date\",\n",
            "\n",
            "\"Account_Closed_Pre_payment_Charges\": \"@ 2% + GST for entire pre-paid amount when account is closed within -02- year from the first disbursement date\"\n",
            "\n",
            "}\n",
            "\n",
            "},\n",
            "\n",
            "\"Rate_of_Interest\": {\n",
            "\n",
            "\"Criteria\": \"Based on CIBIL Bureau score of the applicant/co- applicant. Minimum cut off score is 701.\"\n",
            "\n",
            "}\n",
            "\n",
            "},\n",
            "\n",
            "\"FAQs\": [\n",
            "\n",
            "{\n",
            "\n",
            "\"Question\": \"Is there a tax benefit on car loans?\",\n",
            "\n",
            "\"Answer\": \"Car loan interest payment can be claimed as a deduction under Section 80C of Income Tax Act if the car is used for business purposes.\"\n",
            "\n",
            "},\n",
            "\n",
            "{\n",
            "\n",
            "\"Question\": \"What is a car loan eligibility calculator?\",\n",
            "\n",
            "\"Answer\": \"It helps estimate the quantum of finance you can get based on your current income, car value, existing EMIs, age, location, and other factors.\"\n",
            "\n",
            "},\n",
            "\n",
            "{\n",
            "\n",
            "\"Question\": \"Are there any prepayment charges for Bank of Baroda’s auto loans?\",\n",
            "\n",
            "\"Answer\": \"There are no prepayment charges for Bank of Baroda’s auto loans.\"\n",
            "\n",
            "},\n",
            "\n",
            "{\n",
            "\n",
            "\"Question\": \"What are the benefits of a car loan?\",\n",
            "\n",
            "\"Answer\": \"Quick processing, minimal documentation, no foreclosure charges or pre-payment penalty, and up to 90% financing on on-road price.\"\n",
            "\n",
            "}\n",
            "\n",
            "]\n",
            "\n",
            "}\n",
            "\n",
            "}\n",
            "\n",
            "]\n"
          ]
        }
      ],
      "source": [
        "print(docs[0].page_content)"
      ]
    },
    {
      "cell_type": "markdown",
      "metadata": {
        "id": "JZk8Ob1U8DZK"
      },
      "source": [
        "### Split Documents and Chunking"
      ]
    },
    {
      "cell_type": "code",
      "execution_count": null,
      "metadata": {
        "id": "qYZ1j1Ns73mU"
      },
      "outputs": [],
      "source": [
        "# create chunks\n",
        "splitter = RecursiveCharacterTextSplitter(chunk_size=800,\n",
        "                                          chunk_overlap=100)\n",
        "chunks = splitter.split_documents(docs)"
      ]
    },
    {
      "cell_type": "code",
      "execution_count": null,
      "metadata": {
        "colab": {
          "base_uri": "https://localhost:8080/",
          "height": 122
        },
        "id": "3o58WVXM8SvN",
        "outputId": "f09b7c03-fe76-4f20-d9cd-390bb8ed0b64"
      },
      "outputs": [
        {
          "data": {
            "application/vnd.google.colaboratory.intrinsic+json": {
              "type": "string"
            },
            "text/plain": [
              "'[{\\n\\n\"BarodaDigitalCarLoan\": {\\n\\n\"Benefits\": {\\n\\n\"PaperlessProcess\": true,\\n\\n\"Financing\": \"Up to 93%\",\\n\\n\"DirectDisbursement\": true,\\n\\n\"PrepaymentCharges\": {\\n\\n\"FloatingRate\": {\\n\\n\"Charge\": \"None\",\\n\\n\"Details\": \"No prepayment charges for Floating Rate of Interest\"\\n\\n}\\n\\n},\\n\\n\"ForeclosureCharges\": \"None\",\\n\\n\"InterestRates\": \"Attractive\",\\n\\n\"ProcessingTime\": \"Quick\",\\n\\n\"ProcessingCharges\": \"Concessional till 30.09.2024.\"\\n\\n},\\n\\n\"Features\": {\\n\\n\"EligibleApplicants\": [\\n\\n\"Salaried employees\",\\n\\n\"Self-employed professionals (Doctor, Engineer, etc.)\",\\n\\n\"Self-employed business persons\",\\n\\n\"Insurance agents\"\\n\\n],\\n\\n\"AgeCriteria\": {\\n\\n\"Minimum\": 21,\\n\\n\"Maximum\": {\\n\\n\"Salaried\": 58,\\n\\n\"SelfEmployed\": 65\\n\\n}\\n\\n},\\n\\n\"InterestRateCalculation\": \"Daily reducing balance; based on credit score (minimum 701)\",'"
            ]
          },
          "execution_count": 21,
          "metadata": {},
          "output_type": "execute_result"
        }
      ],
      "source": [
        "chunks[0].page_content"
      ]
    },
    {
      "cell_type": "code",
      "execution_count": null,
      "metadata": {
        "id": "IEuZ69ReTHMa"
      },
      "outputs": [],
      "source": []
    },
    {
      "cell_type": "markdown",
      "metadata": {
        "id": "UD7UjYDdVoBC"
      },
      "source": [
        "###extra"
      ]
    },
    {
      "cell_type": "code",
      "execution_count": null,
      "metadata": {
        "id": "Ch3SR3Wu8Tnw"
      },
      "outputs": [],
      "source": [
        "# Get Embedding Model from HF via API\n",
        "\n",
        "from google.colab import userdata\n",
        "HF_TOKEN = userdata.get('HUGGINGFACEHUB_API_TOKEN')\n",
        "\n",
        "embeddings = HuggingFaceInferenceAPIEmbeddings(\n",
        "    api_key=HF_TOKEN, model_name=\"BAAI/bge-base-en-v1.5\"\n",
        ")"
      ]
    },
    {
      "cell_type": "markdown",
      "metadata": {
        "id": "QfB7uezt9Vud"
      },
      "source": [
        "### VectorStore"
      ]
    },
    {
      "cell_type": "code",
      "execution_count": null,
      "metadata": {
        "id": "GeIka0wR87kF"
      },
      "outputs": [],
      "source": [
        "# Vector store with the selected embedding model\n",
        "vectorstore = Chroma.from_documents(chunks, embeddings)"
      ]
    },
    {
      "cell_type": "code",
      "execution_count": null,
      "metadata": {
        "id": "YaaxtuWw9uJM"
      },
      "outputs": [],
      "source": [
        "vectorstore_retreiver = vectorstore.as_retriever(search_kwargs={\"k\": 3})"
      ]
    },
    {
      "cell_type": "code",
      "execution_count": null,
      "metadata": {
        "id": "nMucCA4z9VAn"
      },
      "outputs": [],
      "source": [
        "keyword_retriever = BM25Retriever.from_documents(chunks)\n",
        "keyword_retriever.k =  3"
      ]
    },
    {
      "cell_type": "markdown",
      "metadata": {
        "id": "b3UCqmV5-D-r"
      },
      "source": [
        "### Ensemble Retriever"
      ]
    },
    {
      "cell_type": "code",
      "execution_count": null,
      "metadata": {
        "id": "nVhLxoWh95dv"
      },
      "outputs": [],
      "source": [
        "ensemble_retriever = EnsembleRetriever(retrievers=[vectorstore_retreiver,\n",
        "                                                   keyword_retriever],\n",
        "                                       weights=[0.5, 0.5])"
      ]
    },
    {
      "cell_type": "code",
      "execution_count": null,
      "metadata": {
        "id": "HlpySqw9Tl8Y"
      },
      "outputs": [],
      "source": []
    },
    {
      "cell_type": "markdown",
      "metadata": {
        "id": "hiKWjqcwVIkP"
      },
      "source": [
        "###extra\n"
      ]
    },
    {
      "cell_type": "code",
      "execution_count": null,
      "metadata": {
        "id": "AG1h9tvE-KqH"
      },
      "outputs": [],
      "source": [
        "llm = HuggingFaceHub(\n",
        "    repo_id=\"HuggingFaceH4/zephyr-7b-beta\",\n",
        "    model_kwargs={\"temperature\": 0.3,\"max_new_tokens\":1024},\n",
        "    huggingfacehub_api_token=HF_TOKEN,\n",
        ")"
      ]
    },
    {
      "cell_type": "markdown",
      "metadata": {
        "id": "Zk-bQqY8-kUH"
      },
      "source": [
        "### Prompt Template:"
      ]
    },
    {
      "cell_type": "code",
      "execution_count": null,
      "metadata": {
        "id": "0C8Vn8PR-QJo"
      },
      "outputs": [],
      "source": [
        "template = \"\"\"\n",
        "CONTEXT: {context}\n",
        "</s>\n",
        "\n",
        "QUERY: {query}\n",
        "</s>\n",
        "\n",
        "INSTRUCTIONS:\n",
        "- Use only the information provided in the CONTEXT section to answer the QUERY.\n",
        "- Do not provide information or answers outside of the given CONTEXT.\n",
        "\n",
        "ANSWER:\n",
        "The answer to the query is:\n",
        "\"\"\""
      ]
    },
    {
      "cell_type": "code",
      "execution_count": null,
      "metadata": {
        "id": "c8eDFcNd_Kru"
      },
      "outputs": [],
      "source": [
        "prompt = ChatPromptTemplate.from_template(template)\n",
        "output_parser = StrOutputParser()"
      ]
    },
    {
      "cell_type": "code",
      "execution_count": null,
      "metadata": {
        "id": "aMyXv89c5jlc"
      },
      "outputs": [],
      "source": []
    },
    {
      "cell_type": "code",
      "execution_count": null,
      "metadata": {
        "id": "sWja0kHaGye9"
      },
      "outputs": [],
      "source": [
        "chain = (\n",
        "    {\"context\": ensemble_retriever, \"query\": RunnablePassthrough()}\n",
        "    | prompt\n",
        "    | llm\n",
        "    | output_parser\n",
        ")"
      ]
    },
    {
      "cell_type": "code",
      "execution_count": null,
      "metadata": {
        "id": "2vIkCns_5dq3"
      },
      "outputs": [],
      "source": [
        "def extract_answer(response):\n",
        "    # Extract only the portion of the response that follows \"ANSWER:\"\n",
        "    parts = response.split('ANSWER:')\n",
        "    if len(parts) > 1:\n",
        "        return parts[1].strip()\n",
        "    return response.strip()"
      ]
    },
    {
      "cell_type": "code",
      "execution_count": null,
      "metadata": {
        "colab": {
          "base_uri": "https://localhost:8080/"
        },
        "id": "K1aH9U3N5p7g",
        "outputId": "aeb89e8a-9a32-4304-cff4-fcac3dea76d0"
      },
      "outputs": [
        {
          "name": "stdout",
          "output_type": "stream",
          "text": [
            "The answer to the query is:\n",
            "\n",
            "A car loan is a type of loan provided by financial institutions to individuals or non-individuals for the purpose of purchasing a car. The maximum loan amount for individuals is Rs. 200 lakh, and for non-individuals, it is Rs. 500 lakh, as mentioned in the CONTEXT section. The interest rate for a car loan varies based on factors such as income, debt, and credit score, and can be checked on the Interest Rate page. The loan can be applied for through various methods, such as branch visits, online applications, missed calls, or toll-free numbers, as stated in the CONTEXT section. Additionally, the CONTEXT section mentions that the minimum CIBIL score required for a car loan is 701, but CIBIL Score (-1) will also be considered.\n"
          ]
        }
      ],
      "source": [
        "from langchain_core.output_parsers import StrOutputParser\n",
        "raw_response = chain.invoke(\"what is car loan \")\n",
        "answer = extract_answer(raw_response)\n",
        "print(answer)"
      ]
    },
    {
      "cell_type": "code",
      "execution_count": null,
      "metadata": {
        "colab": {
          "base_uri": "https://localhost:8080/"
        },
        "id": "ceD4tQSaapJB",
        "outputId": "d18176cc-b25f-4110-d351-78c8fb7fc2ca"
      },
      "outputs": [
        {
          "name": "stdout",
          "output_type": "stream",
          "text": [
            "The answer to the query is:\n",
            "\n",
            "Based on the information provided in the CONTEXT section, Bank of Baroda offers car loans up to a maximum amount of Rs. 200 lakh for individuals. This loan amount should meet your requirement of purchasing a car for Rs. 20 lakh. You can apply for the loan through branch visit, online application, missed call, or toll-free numbers. The car loan interest rates may vary based on factors such as income, debt, and credit score. It is recommended to check the Interest Rate page for applicable rates. The loan processing charges are minimal, and there are no pre-closure charges after 1 year. The loan tenure can be flexible within 5 years. Additionally, Bank of Baroda offers attractive interest rates, minimal processing charges, and no pre-closure charges for its two-wheeler loans, which may also be of interest to you. For more information, you can refer to the FAQs section provided in the CONTEXT.\n"
          ]
        }
      ],
      "source": [
        "raw_response = chain.invoke(\"i want to purchases a car on loan which cost me 20 lakh rupees suggest a loan\")\n",
        "answer = extract_answer(raw_response)\n",
        "print(answer)"
      ]
    },
    {
      "cell_type": "code",
      "execution_count": null,
      "metadata": {
        "colab": {
          "base_uri": "https://localhost:8080/"
        },
        "id": "xRzNmZVggOTh",
        "outputId": "a9931fce-4a93-4bdd-9654-ca235f3d8d41"
      },
      "outputs": [
        {
          "name": "stdout",
          "output_type": "stream",
          "text": [
            "The answer to the query is:\n",
            "\n",
            "The required documents for the car loan, as mentioned in the CONTEXT section, are:\n",
            "\n",
            "1. Photo ID with age proof (such as PAN card, passport, driving license)\n",
            "2. Signed application form with 3 passport sized photographs\n",
            "3. Residence proof (such as a valid passport, voter ID card)\n",
            "4. Bank statement for the last six months\n",
            "5. Additional documents based on employment type (such as salary slips, ITR, business proof)\n",
            "\n",
            "Note: The required documents may vary based on the specific loan application process and eligibility criteria. It's always recommended to check with the lender for the most up-to-date and accurate list of required documents.\n"
          ]
        }
      ],
      "source": [
        "raw_response = chain.invoke(\"what are the required documents for the it\")\n",
        "answer = extract_answer(raw_response)\n",
        "print(answer)"
      ]
    },
    {
      "cell_type": "code",
      "execution_count": null,
      "metadata": {
        "id": "GGuRvtEsBJZV"
      },
      "outputs": [],
      "source": [
        "!pip install Flask"
      ]
    },
    {
      "cell_type": "code",
      "execution_count": null,
      "metadata": {
        "id": "2VIJB-xNpuIb"
      },
      "outputs": [],
      "source": [
        "!pip install flask-sqlalchemy"
      ]
    },
    {
      "cell_type": "markdown",
      "metadata": {
        "id": "81Uu-dSXAYS7"
      },
      "source": [
        "#Interface Using Flask"
      ]
    },
    {
      "cell_type": "code",
      "execution_count": null,
      "metadata": {
        "colab": {
          "base_uri": "https://localhost:8080/",
          "height": 104
        },
        "id": "KMsBC9uPAdtH",
        "outputId": "6c8cb235-93a7-427d-d0d6-db94fcc475ad"
      },
      "outputs": [
        {
          "name": "stdout",
          "output_type": "stream",
          "text": [
            " * Serving Flask app '__main__'\n",
            " * Debug mode: on\n"
          ]
        },
        {
          "name": "stderr",
          "output_type": "stream",
          "text": [
            "Address already in use\n",
            "Port 8000 is in use by another program. Either identify and stop that program, or start the server with a different port.\n"
          ]
        },
        {
          "name": "stdout",
          "output_type": "stream",
          "text": [
            "https://xq9s0p00fz-496ff2e9c6d22116-8000-colab.googleusercontent.com/\n"
          ]
        }
      ],
      "source": [
        "# app.py\n",
        "from flask import Flask, render_template, request, jsonify\n",
        "from flask_sqlalchemy import SQLAlchemy\n",
        "from langchain.document_loaders import UnstructuredPDFLoader\n",
        "from langchain.text_splitter import RecursiveCharacterTextSplitter\n",
        "from langchain.vectorstores import Chroma\n",
        "from langchain_core.prompts import ChatPromptTemplate\n",
        "from langchain_core.output_parsers import StrOutputParser\n",
        "from langchain_core.runnables import RunnablePassthrough\n",
        "from langchain.embeddings import HuggingFaceInferenceAPIEmbeddings\n",
        "from langchain.llms import HuggingFaceHub\n",
        "from langchain.retrievers import BM25Retriever, EnsembleRetriever\n",
        "import os\n",
        "from threading import Thread\n",
        "\n",
        "app = Flask(__name__,template_folder=\"/content/sample_data/templates\")\n",
        "\n",
        "# Initialize your bot components here (outside of any route)\n",
        "# This is a simplified version, you'll need to adapt it to your specific setup\n",
        "def initialize_bot():\n",
        "    # Load and process the PDF\n",
        "    file_path = \"FILE\"  ##Document File\n",
        "    data_file = UnstructuredPDFLoader(file_path)\n",
        "    docs = data_file.load()\n",
        "\n",
        "    # Split documents and create chunks\n",
        "    splitter = RecursiveCharacterTextSplitter(chunk_size=800, chunk_overlap=100)\n",
        "    chunks = splitter.split_documents(docs)\n",
        "\n",
        "    # Initialize embeddings\n",
        "    HF_TOKEN = userdata.get('HUGGINGFACEHUB_API_TOKEN')\n",
        "    embeddings = HuggingFaceInferenceAPIEmbeddings(\n",
        "        api_key=HF_TOKEN, model_name=\"BAAI/bge-base-en-v1.5\"\n",
        "    )\n",
        "\n",
        "    # Create vector store\n",
        "    vectorstore = Chroma.from_documents(chunks, embeddings)\n",
        "    vectorstore_retriever = vectorstore.as_retriever(search_kwargs={\"k\": 3})\n",
        "\n",
        "    # Create keyword retriever\n",
        "    keyword_retriever = BM25Retriever.from_documents(chunks)\n",
        "    keyword_retriever.k = 3\n",
        "\n",
        "    # Create ensemble retriever\n",
        "    ensemble_retriever = EnsembleRetriever(\n",
        "        retrievers=[vectorstore_retriever, keyword_retriever],\n",
        "        weights=[0.5, 0.5]\n",
        "    )\n",
        "\n",
        "    # Initialize LLM\n",
        "    llm = HuggingFaceHub(\n",
        "        repo_id=\"HuggingFaceH4/zephyr-7b-beta\",\n",
        "        model_kwargs={\"temperature\": 0.3, \"max_new_tokens\": 1024},\n",
        "        huggingfacehub_api_token=HF_TOKEN,\n",
        "    )\n",
        "\n",
        "    # Create prompt template\n",
        "    template = \"\"\"\n",
        "    CONTEXT: {context} </s>\n",
        "\n",
        "    QUERY: {query} </s>\n",
        "\n",
        "    INSTRUCTIONS: - Use only the information provided in the CONTEXT section to answer the QUERY. - Do not provide information or answers outside of the given CONTEXT.\n",
        "\n",
        "    ANSWER: The answer to the query is:\n",
        "    \"\"\"\n",
        "    prompt = ChatPromptTemplate.from_template(template)\n",
        "    output_parser = StrOutputParser()\n",
        "\n",
        "    # Create the chain\n",
        "    chain = (\n",
        "        {\"context\": ensemble_retriever, \"query\": RunnablePassthrough()}\n",
        "        | prompt\n",
        "        | llm\n",
        "        | output_parser\n",
        "    )\n",
        "\n",
        "    return chain\n",
        "\n",
        "# Initialize the bot\n",
        "bot_chain = initialize_bot()\n",
        "\n",
        "@app.route('/')\n",
        "def home():\n",
        "    return render_template('index.html')\n",
        "\n",
        "@app.route('/query', methods=['POST'])\n",
        "def query_bot():\n",
        "    user_query = request.json['query']\n",
        "    raw_response = bot_chain.invoke(user_query)\n",
        "    answer = extract_answer(raw_response)\n",
        "    return jsonify({'response': answer})\n",
        "\n",
        "def extract_answer(response):\n",
        "    parts = response.split('ANSWER:')\n",
        "    if len(parts) > 1:\n",
        "        return parts[1].strip()\n",
        "    return response.strip()\n",
        "\n",
        "def run_flask(port):\n",
        "    app.run(port=port, debug=True, use_reloader=False)\n",
        "\n",
        "# Start the Flask app in a separate thread\n",
        "flask_thread = Thread(target=run_flask, args=(8000,))\n",
        "flask_thread.start()\n",
        "\n",
        "# Use ngrok to create a public URL\n",
        "from google.colab.output import eval_js\n",
        "print(eval_js(\"google.colab.kernel.proxyPort(8000)\"))\n",
        "\n"
      ]
    },
    {
      "cell_type": "code",
      "execution_count": null,
      "metadata": {
        "colab": {
          "base_uri": "https://localhost:8080/"
        },
        "id": "bhlLEd9YAqHy",
        "outputId": "696d67c9-5ac7-496f-ba08-9f0a143ab475"
      },
      "outputs": [
        {
          "name": "stdout",
          "output_type": "stream",
          "text": [
            "Mounted at /content/drive\n"
          ]
        }
      ],
      "source": [
        "from google.colab import drive\n",
        "drive.mount('/content/drive')"
      ]
    }
  ],
  "metadata": {
    "accelerator": "GPU",
    "colab": {
      "collapsed_sections": [
        "UD7UjYDdVoBC",
        "hiKWjqcwVIkP",
        "81Uu-dSXAYS7"
      ],
      "gpuType": "T4",
      "provenance": []
    },
    "kernelspec": {
      "display_name": "Python 3",
      "name": "python3"
    },
    "language_info": {
      "name": "python"
    }
  },
  "nbformat": 4,
  "nbformat_minor": 0
}